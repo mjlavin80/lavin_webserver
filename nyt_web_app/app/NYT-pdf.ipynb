{
 "cells": [
  {
   "cell_type": "code",
   "execution_count": 1,
   "metadata": {},
   "outputs": [],
   "source": [
    "from application import *\n",
    "from application.models import Metadata"
   ]
  },
  {
   "cell_type": "code",
   "execution_count": 2,
   "metadata": {},
   "outputs": [],
   "source": [
    "rows = Metadata().query.filter(Metadata.review_type == \"cluster\").all()"
   ]
  },
  {
   "cell_type": "code",
   "execution_count": 3,
   "metadata": {},
   "outputs": [
    {
     "data": {
      "text/plain": [
       "824"
      ]
     },
     "execution_count": 3,
     "metadata": {},
     "output_type": "execute_result"
    }
   ],
   "source": [
    "len(rows)"
   ]
  },
  {
   "cell_type": "code",
   "execution_count": 4,
   "metadata": {},
   "outputs": [],
   "source": [
    "post_22 = [i for i in rows if i.year in ['1923', '1924', '1925']]"
   ]
  },
  {
   "cell_type": "code",
   "execution_count": 5,
   "metadata": {},
   "outputs": [
    {
     "data": {
      "text/plain": [
       "127"
      ]
     },
     "execution_count": 5,
     "metadata": {},
     "output_type": "execute_result"
    }
   ],
   "source": [
    "len(post_22)"
   ]
  },
  {
   "cell_type": "code",
   "execution_count": 12,
   "metadata": {},
   "outputs": [
    {
     "data": {
      "text/plain": [
       "'Latest Works of Fiction; THE ENCHANTED APRIL. By \"Elizabeth.\" With frontispiece. Doubleday, Page & Co. $1.00.'"
      ]
     },
     "execution_count": 12,
     "metadata": {},
     "output_type": "execute_result"
    }
   ],
   "source": [
    "post_22[0].headline"
   ]
  },
  {
   "cell_type": "code",
   "execution_count": 29,
   "metadata": {},
   "outputs": [
    {
     "name": "stdout",
     "output_type": "stream",
     "text": [
      "skipping /Users/matthewlavin/Downloads/nyt_pdf/4fc0819a45c1498b0d32cf1d.pdf\n",
      "skipping /Users/matthewlavin/Downloads/nyt_pdf/4fc090ee45c1498b0d371d9f.pdf\n",
      "skipping /Users/matthewlavin/Downloads/nyt_pdf/4fc0819a45c1498b0d32cf45.pdf\n",
      "skipping /Users/matthewlavin/Downloads/nyt_pdf/4fc08df045c1498b0d3645c5.pdf\n",
      "skipping /Users/matthewlavin/Downloads/nyt_pdf/4fc08dee45c1498b0d36423f.pdf\n",
      "skipping /Users/matthewlavin/Downloads/nyt_pdf/4fc0980645c1498b0d393ecc.pdf\n",
      "skipping /Users/matthewlavin/Downloads/nyt_pdf/4fc0819a45c1498b0d32cf02.pdf\n",
      "skipping /Users/matthewlavin/Downloads/nyt_pdf/4fc0942b45c1498b0d380fa3.pdf\n",
      "skipping /Users/matthewlavin/Downloads/nyt_pdf/4fc08af645c1498b0d355a25.pdf\n",
      "skipping /Users/matthewlavin/Downloads/nyt_pdf/4fc08ffa45c1498b0d36d5f7.pdf\n",
      "skipping /Users/matthewlavin/Downloads/nyt_pdf/4fc07f7e45c1498b0d32319f.pdf\n",
      "skipping /Users/matthewlavin/Downloads/nyt_pdf/4fc08ff945c1498b0d36d592.pdf\n",
      "skipping /Users/matthewlavin/Downloads/nyt_pdf/4fc07ea345c1498b0d31f39d.pdf\n",
      "skipping /Users/matthewlavin/Downloads/nyt_pdf/4fc08af845c1498b0d355d0c.pdf\n",
      "skipping /Users/matthewlavin/Downloads/nyt_pdf/4fc092e345c1498b0d37b35e.pdf\n",
      "skipping /Users/matthewlavin/Downloads/nyt_pdf/4fc07ea545c1498b0d31f60b.pdf\n",
      "skipping /Users/matthewlavin/Downloads/nyt_pdf/4fc0aaf145c1498b0d3eaafe.pdf\n",
      "skipping /Users/matthewlavin/Downloads/nyt_pdf/4fc08af745c1498b0d355ca2.pdf\n",
      "skipping /Users/matthewlavin/Downloads/nyt_pdf/4fc08df345c1498b0d364adc.pdf\n",
      "skipping /Users/matthewlavin/Downloads/nyt_pdf/4fc096c045c1498b0d38decd.pdf\n",
      "skipping /Users/matthewlavin/Downloads/nyt_pdf/4fc08df445c1498b0d364ca8.pdf\n",
      "skipping /Users/matthewlavin/Downloads/nyt_pdf/4fc07f4a45c1498b0d32286d.pdf\n",
      "skipping /Users/matthewlavin/Downloads/nyt_pdf/4fc07f4a45c1498b0d3228af.pdf\n",
      "skipping /Users/matthewlavin/Downloads/nyt_pdf/4fc07f4845c1498b0d3226f1.pdf\n",
      "skipping /Users/matthewlavin/Downloads/nyt_pdf/4fc07ffe45c1498b0d325a31.pdf\n",
      "skipping /Users/matthewlavin/Downloads/nyt_pdf/4fc0942e45c1498b0d38153a.pdf\n",
      "skipping /Users/matthewlavin/Downloads/nyt_pdf/4fc0aec945c1498b0d3fd7f2.pdf\n",
      "skipping /Users/matthewlavin/Downloads/nyt_pdf/4fc0900445c1498b0d36e01d.pdf\n",
      "skipping /Users/matthewlavin/Downloads/nyt_pdf/4fc0aec945c1498b0d3fd7b3.pdf\n",
      "skipping /Users/matthewlavin/Downloads/nyt_pdf/4fc0960f45c1498b0d38acfe.pdf\n",
      "skipping /Users/matthewlavin/Downloads/nyt_pdf/4fc0aeca45c1498b0d3fd8a8.pdf\n",
      "skipping /Users/matthewlavin/Downloads/nyt_pdf/4fc0aaf345c1498b0d3ead57.pdf\n",
      "skipping /Users/matthewlavin/Downloads/nyt_pdf/4fc08afb45c1498b0d35619b.pdf\n",
      "skipping /Users/matthewlavin/Downloads/nyt_pdf/4fc0aaf345c1498b0d3ead28.pdf\n",
      "skipping /Users/matthewlavin/Downloads/nyt_pdf/4fc07ea645c1498b0d31f913.pdf\n",
      "skipping /Users/matthewlavin/Downloads/nyt_pdf/4fc0900245c1498b0d36dede.pdf\n",
      "skipping /Users/matthewlavin/Downloads/nyt_pdf/4fc0960b45c1498b0d38a5c8.pdf\n",
      "skipping /Users/matthewlavin/Downloads/nyt_pdf/4fc07ffd45c1498b0d325869.pdf\n",
      "skipping /Users/matthewlavin/Downloads/nyt_pdf/4fc0903745c1498b0d36e9db.pdf\n",
      "skipping /Users/matthewlavin/Downloads/nyt_pdf/4fc08c3f45c1498b0d35c23b.pdf\n",
      "skipping /Users/matthewlavin/Downloads/nyt_pdf/4fc08e5f45c1498b0d3669d1.pdf\n",
      "skipping /Users/matthewlavin/Downloads/nyt_pdf/4fc08e5845c1498b0d365efa.pdf\n",
      "skipping /Users/matthewlavin/Downloads/nyt_pdf/4fc08e5f45c1498b0d366973.pdf\n",
      "skipping /Users/matthewlavin/Downloads/nyt_pdf/4fc0819d45c1498b0d32d058.pdf\n",
      "skipping /Users/matthewlavin/Downloads/nyt_pdf/4fc090f045c1498b0d372054.pdf\n",
      "skipping /Users/matthewlavin/Downloads/nyt_pdf/4fc07ffd45c1498b0d32582f.pdf\n",
      "skipping /Users/matthewlavin/Downloads/nyt_pdf/4fc09af745c1498b0d3a17d3.pdf\n",
      "skipping /Users/matthewlavin/Downloads/nyt_pdf/4fc0b6b145c1498b0d4237ed.pdf\n",
      "skipping /Users/matthewlavin/Downloads/nyt_pdf/4fc0b6af45c1498b0d42355f.pdf\n",
      "skipping /Users/matthewlavin/Downloads/nyt_pdf/4fc097a345c1498b0d39224f.pdf\n",
      "skipping /Users/matthewlavin/Downloads/nyt_pdf/4fc0964545c1498b0d38ae4f.pdf\n",
      "skipping /Users/matthewlavin/Downloads/nyt_pdf/4fc0b5a545c1498b0d41e668.pdf\n",
      "skipping /Users/matthewlavin/Downloads/nyt_pdf/4fc097a345c1498b0d3922d5.pdf\n",
      "skipping /Users/matthewlavin/Downloads/nyt_pdf/4fc099cf45c1498b0d39c961.pdf\n",
      "skipping /Users/matthewlavin/Downloads/nyt_pdf/4fc0b6ad45c1498b0d423247.pdf\n",
      "skipping /Users/matthewlavin/Downloads/nyt_pdf/4fc0912945c1498b0d3730df.pdf\n",
      "skipping /Users/matthewlavin/Downloads/nyt_pdf/4fc099cc45c1498b0d39c601.pdf\n",
      "skipping /Users/matthewlavin/Downloads/nyt_pdf/4fc09a7f45c1498b0d39f612.pdf\n",
      "skipping /Users/matthewlavin/Downloads/nyt_pdf/4fc0912745c1498b0d372d34.pdf\n",
      "skipping /Users/matthewlavin/Downloads/nyt_pdf/4fc0b5a745c1498b0d41e8e4.pdf\n",
      "Failed for /Users/matthewlavin/Downloads/nyt_pdf/4fc080b745c1498b0d328fd9.pdf\n",
      "finished download 4fc091d145c1498b0d376391 after 1 tries\n",
      "finished download 4fc080f445c1498b0d32a262 after 1 tries\n",
      "finished download 4fc0854145c1498b0d33c77e after 1 tries\n",
      "finished download 4fc0b87e45c1498b0d42b065 after 1 tries\n",
      "finished download 4fc0b87e45c1498b0d42b0f2 after 1 tries\n",
      "finished download 4fc083f245c1498b0d3365cc after 1 tries\n",
      "finished download 4fc09ccd45c1498b0d3a92e5 after 1 tries\n",
      "finished download 4fc0b8eb45c1498b0d42cdd7 after 1 tries\n",
      "finished download 4fc0b87c45c1498b0d42ae68 after 1 tries\n",
      "finished download 4fc0b87945c1498b0d42abd6 after 1 tries\n",
      "finished download 4fc09ccb45c1498b0d3a9119 after 1 tries\n",
      "finished download 4fc0894145c1498b0d34ddf9 after 1 tries\n",
      "retrying 4fc088ce45c1498b0d34c0e6\n",
      "retrying 4fc088ce45c1498b0d34c0e6\n",
      "retrying 4fc088ce45c1498b0d34c0e6\n",
      "retrying 4fc088ce45c1498b0d34c0e6\n",
      "finished download 4fc088ce45c1498b0d34c0e6 after None tries\n",
      "finished download 4fc0b87e45c1498b0d42b087 after 1 tries\n",
      "finished download 4fc09c2445c1498b0d3a715b after 1 tries\n",
      "finished download 4fc0987445c1498b0d395e18 after 1 tries\n",
      "finished download 4fc09abb45c1498b0d3a06a8 after 1 tries\n",
      "finished download 4fc0889245c1498b0d34ac22 after 1 tries\n",
      "finished download 4fc0882545c1498b0d348987 after 1 tries\n",
      "finished download 4fc0b75545c1498b0d4266e9 after 1 tries\n",
      "finished download 4fc0824f45c1498b0d330458 after 1 tries\n",
      "finished download 4fc0992045c1498b0d3997dc after 1 tries\n",
      "finished download 4fc09a4145c1498b0d39e1d1 after 1 tries\n",
      "finished download 4fc0987345c1498b0d395bbc after 1 tries\n",
      "finished download 4fc09a4245c1498b0d39e24b after 1 tries\n",
      "finished download 4fc09ba645c1498b0d3a4648 after 1 tries\n",
      "finished download 4fc081d345c1498b0d32dd7d after 1 tries\n",
      "finished download 4fc09c2345c1498b0d3a6e8f after 1 tries\n",
      "finished download 4fc09cc645c1498b0d3a8c8f after 1 tries\n",
      "finished download 4fc09c2045c1498b0d3a6ac5 after 1 tries\n",
      "Failed for /Users/matthewlavin/Downloads/nyt_pdf/4fc088cb45c1498b0d34bd85.pdf\n",
      "finished download 4fc09cc245c1498b0d3a8943 after 1 tries\n",
      "finished download 4fc083ee45c1498b0d336153 after 1 tries\n",
      "finished download 4fc09c2045c1498b0d3a6b41 after 1 tries\n",
      "finished download 4fc088c645c1498b0d34b43a after 1 tries\n",
      "finished download 4fc088c945c1498b0d34b9d6 after 1 tries\n",
      "Failed for /Users/matthewlavin/Downloads/nyt_pdf/4fc09c2345c1498b0d3a6eb9.pdf\n",
      "finished download 4fc0882a45c1498b0d3490b4 after 1 tries\n",
      "finished download 4fc09abd45c1498b0d3a09b2 after 1 tries\n",
      "finished download 4fc09bac45c1498b0d3a4fa3 after 1 tries\n",
      "finished download 4fc0889345c1498b0d34ad8b after 1 tries\n",
      "finished download 4fc0824645c1498b0d32f82d after 1 tries\n",
      "finished download 4fc0825245c1498b0d3304c8 after 1 tries\n",
      "finished download 4fc0b84145c1498b0d429dd2 after 1 tries\n",
      "finished download 4fc0b78d45c1498b0d426dcd after 1 tries\n",
      "finished download 4fc09be545c1498b0d3a5ca6 after 1 tries\n",
      "finished download 4fc0b84245c1498b0d429ef5 after 1 tries\n",
      "finished download 4fc09be645c1498b0d3a5f18 after 1 tries\n",
      "finished download 4fc0992045c1498b0d3998c3 after 1 tries\n",
      "finished download 4fc081dc45c1498b0d32e44e after 1 tries\n",
      "finished download 4fc081dc45c1498b0d32e51b after 1 tries\n",
      "Failed for /Users/matthewlavin/Downloads/nyt_pdf/4fc081dd45c1498b0d32e5ad.pdf\n",
      "finished download 4fc09a4645c1498b0d39e821 after 1 tries\n",
      "finished download 4fc09be345c1498b0d3a5a64 after 1 tries\n",
      "finished download 4fc09be445c1498b0d3a5b0b after 1 tries\n",
      "finished download 4fc0b87545c1498b0d42a6a2 after 1 tries\n",
      "finished download 4fc0b8e645c1498b0d42c908 after 1 tries\n",
      "finished download 4fc0b83845c1498b0d429501 after 1 tries\n",
      "finished download 4fc0b83845c1498b0d42958a after 1 tries\n"
     ]
    },
    {
     "name": "stdout",
     "output_type": "stream",
     "text": [
      "finished download 4fc09b3045c1498b0d3a276b after 1 tries\n",
      "finished download 4fc0991b45c1498b0d399062 after 1 tries\n",
      "finished download 4fc0991d45c1498b0d399476 after 1 tries\n",
      "finished download 4fc0991c45c1498b0d39920c after 1 tries\n",
      "finished download 4fc088c745c1498b0d34b608 after 1 tries\n",
      "retrying 4fc09d4845c1498b0d3aaf0e\n",
      "retrying 4fc09d4845c1498b0d3aaf0e\n",
      "retrying 4fc09d4845c1498b0d3aaf0e\n",
      "retrying 4fc09d4845c1498b0d3aaf0e\n",
      "finished download 4fc09d4845c1498b0d3aaf0e after None tries\n",
      "finished download 4fc09be245c1498b0d3a5824 after 1 tries\n"
     ]
    }
   ],
   "source": [
    "from selenium import webdriver\n",
    "from selenium.webdriver.common.keys import Keys\n",
    "import time\n",
    "import os, glob\n",
    "\n",
    "def try_rename(new_name, tries=1):\n",
    "    pdf = glob.glob(\"/Users/matthewlavin/Downloads/*.pdf\")\n",
    "    if len(pdf) == 1:\n",
    "        os.rename(pdf[0], \"/Users/matthewlavin/Downloads/nyt_pdf/\" + new_name + \".pdf\")\n",
    "        return tries\n",
    "    else:\n",
    "        if tries > 4:\n",
    "            return tries\n",
    "        else:    \n",
    "            print(\"retrying %s\" % new_name)\n",
    "            time.sleep(3)\n",
    "            try_rename(new_name, tries=tries+1)\n",
    "        \n",
    "\n",
    "# loop post_22\n",
    "for p in post_22:    \n",
    "    #p.nyt_id, p.headline\n",
    "    pdf_all = glob.glob(\"/Users/matthewlavin/Downloads/nyt_pdf/*.pdf\")\n",
    "    myfile = \"/Users/matthewlavin/Downloads/nyt_pdf/\" + p.nyt_id + \".pdf\"\n",
    "    if myfile in pdf_all:\n",
    "        print(\"skipping %s\" % myfile)\n",
    "    else:\n",
    "        try: \n",
    "            driver = webdriver.Chrome(\"/Users/matthewlavin/chromedriver\")\n",
    "            driver.get(\"https://search.proquest.com/hnpnewyorktimes/advanced?accountid=14709\")\n",
    "            query = driver.find_element_by_id(\"queryTermField\")\n",
    "            query.send_keys(p.headline)\n",
    "\n",
    "            driver.find_element_by_id(\"searchToResultPage\").click()\n",
    "\n",
    "            driver.find_element_by_id(\"result-header-1\").click()\n",
    "            time.sleep(2)\n",
    "            driver.find_element_by_id(\"downloadPDFLink\").click()\n",
    "            time.sleep(3)\n",
    "            driver.close()\n",
    "\n",
    "            tries = try_rename(p.nyt_id)\n",
    "\n",
    "            print(\"finished download %s after %s tries\" % (p.nyt_id, str(tries))) \n",
    "            time.sleep(3)\n",
    "        except:\n",
    "            print(\"Failed for %s\" % myfile)"
   ]
  },
  {
   "cell_type": "code",
   "execution_count": 19,
   "metadata": {
    "scrolled": true
   },
   "outputs": [],
   "source": [
    "from selenium import webdriver\n",
    "from selenium.webdriver.common.keys import Keys\n",
    "import time\n",
    "\n",
    "path = \"/Users/matthewlavin/Documents/nyt_pdfs\"\n",
    "pitt = \"https://pitt2.campuslabs.com/engage/organizations\"\n",
    "driver = webdriver.Chrome(\"/Users/matthewlavin/chromedriver\")\n",
    "\n",
    "driver.get(\"https://search.proquest.com/hnpnewyorktimes/advanced?accountid=14709\")\n",
    "\n",
    "query = driver.find_element_by_id(\"queryTermField\")\n",
    "\n",
    "query.send_keys(post_22[1].headline)\n",
    "\n",
    "driver.find_element_by_id(\"searchToResultPage\").click()\n",
    "\n",
    "driver.find_element_by_id(\"result-header-1\").click()\n",
    "time.sleep(1)\n",
    "driver.find_element_by_id(\"downloadPDFLink\").click()\n"
   ]
  },
  {
   "cell_type": "code",
   "execution_count": 16,
   "metadata": {},
   "outputs": [],
   "source": [
    "#change filename\n",
    "import os\n",
    "default = \"/Users/matthewlavin/Downloads/Latest_Works_of_Fiction_span.pdf\"\n",
    "os.rename(default, \"/Users/matthewlavin/Downloads/\" + post_22[1].nyt_id + \".pdf\")"
   ]
  },
  {
   "cell_type": "code",
   "execution_count": 18,
   "metadata": {},
   "outputs": [
    {
     "data": {
      "text/plain": [
       "'4fc0819a45c1498b0d32cf45'"
      ]
     },
     "execution_count": 18,
     "metadata": {},
     "output_type": "execute_result"
    }
   ],
   "source": [
    "post_22[2].nyt_id"
   ]
  },
  {
   "cell_type": "code",
   "execution_count": 36,
   "metadata": {},
   "outputs": [],
   "source": [
    "from selenium import webdriver\n",
    "from selenium.webdriver.common.keys import Keys\n",
    "import time\n",
    "import os, glob\n",
    "\n",
    "def try_rename(new_name, tries=1):\n",
    "    pdf = glob.glob(\"/Users/matthewlavin/Downloads/*.pdf\")\n",
    "    if len(pdf) == 1:\n",
    "        os.rename(pdf[0], \"/Users/matthewlavin/Downloads/nyt_pdf/\" + new_name + \".pdf\")\n",
    "        return tries\n",
    "    else:\n",
    "        if tries > 4:\n",
    "            return tries\n",
    "        else:    \n",
    "            print(\"retrying %s\" % new_name)\n",
    "            time.sleep(3)\n",
    "            try_rename(new_name, tries=tries+1)\n",
    "        \n",
    "\n",
    "# loop post_22\n",
    "for p in post_22:    \n",
    "    #p.nyt_id, p.headline\n",
    "    pdf_all = glob.glob(\"/Users/matthewlavin/Downloads/nyt_pdf/*.pdf\")\n",
    "    myfile = \"/Users/matthewlavin/Downloads/nyt_pdf/\" + p.nyt_id + \".pdf\"\n",
    "    if myfile in pdf_all:\n",
    "        pass\n",
    "    else:\n",
    "        print(p.nyt_id, p.headline)"
   ]
  }
 ],
 "metadata": {
  "kernelspec": {
   "display_name": "Python 3",
   "language": "python",
   "name": "python3"
  },
  "language_info": {
   "codemirror_mode": {
    "name": "ipython",
    "version": 3
   },
   "file_extension": ".py",
   "mimetype": "text/x-python",
   "name": "python",
   "nbconvert_exporter": "python",
   "pygments_lexer": "ipython3",
   "version": "3.6.5"
  }
 },
 "nbformat": 4,
 "nbformat_minor": 2
}
