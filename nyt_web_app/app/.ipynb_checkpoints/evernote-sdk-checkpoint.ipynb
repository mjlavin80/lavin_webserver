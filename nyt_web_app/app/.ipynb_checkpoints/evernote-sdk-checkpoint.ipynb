{
 "cells": [
  {
   "cell_type": "code",
   "execution_count": 82,
   "metadata": {},
   "outputs": [
    {
     "name": "stdout",
     "output_type": "stream",
     "text": [
      "Paste this URL in your browser and login\n",
      "\n"
     ]
    },
    {
     "ename": "KeyError",
     "evalue": "'oauth_token'",
     "output_type": "error",
     "traceback": [
      "\u001b[0;31m---------------------------------------------------------------------------\u001b[0m",
      "\u001b[0;31mKeyError\u001b[0m                                  Traceback (most recent call last)",
      "\u001b[0;32m<ipython-input-82-207cc493690e>\u001b[0m in \u001b[0;36m<module>\u001b[0;34m()\u001b[0m\n\u001b[1;32m     47\u001b[0m \u001b[0;32mprint\u001b[0m \u001b[0;34m\"Paste this URL in your browser and login\"\u001b[0m\u001b[0;34m\u001b[0m\u001b[0m\n\u001b[1;32m     48\u001b[0m \u001b[0;32mprint\u001b[0m\u001b[0;34m\u001b[0m\u001b[0m\n\u001b[0;32m---> 49\u001b[0;31m \u001b[0;32mprint\u001b[0m \u001b[0;34m'\\t'\u001b[0m\u001b[0;34m+\u001b[0m\u001b[0mclient\u001b[0m\u001b[0;34m.\u001b[0m\u001b[0mget_authorize_url\u001b[0m\u001b[0;34m(\u001b[0m\u001b[0mrequest_token\u001b[0m\u001b[0;34m)\u001b[0m\u001b[0;34m\u001b[0m\u001b[0m\n\u001b[0m\u001b[1;32m     50\u001b[0m \u001b[0;32mprint\u001b[0m\u001b[0;34m\u001b[0m\u001b[0m\n\u001b[1;32m     51\u001b[0m \u001b[0;32mprint\u001b[0m \u001b[0;34m'-------'\u001b[0m\u001b[0;34m\u001b[0m\u001b[0m\n",
      "\u001b[0;32m/Users/matthewlavin/venv_p2/lib/python2.7/site-packages/evernote/api/client.pyc\u001b[0m in \u001b[0;36mget_authorize_url\u001b[0;34m(self, request_token)\u001b[0m\n\u001b[1;32m     45\u001b[0m         return '%s?oauth_token=%s' % (\n\u001b[1;32m     46\u001b[0m             \u001b[0mself\u001b[0m\u001b[0;34m.\u001b[0m\u001b[0m_get_endpoint\u001b[0m\u001b[0;34m(\u001b[0m\u001b[0;34m'OAuth.action'\u001b[0m\u001b[0;34m)\u001b[0m\u001b[0;34m,\u001b[0m\u001b[0;34m\u001b[0m\u001b[0m\n\u001b[0;32m---> 47\u001b[0;31m             urllib.quote(request_token['oauth_token']))\n\u001b[0m\u001b[1;32m     48\u001b[0m \u001b[0;34m\u001b[0m\u001b[0m\n\u001b[1;32m     49\u001b[0m     def get_access_token_dict(\n",
      "\u001b[0;31mKeyError\u001b[0m: 'oauth_token'"
     ]
    }
   ],
   "source": [
    "# Python OAuth example\n",
    "\n",
    "import evernote.edam.userstore.constants as UserStoreConstants\n",
    "import evernote.edam.type.ttypes as Types\n",
    "from evernote.api.client import EvernoteClient\n",
    "\n",
    "##\n",
    "# Helper function to turn query string parameters into a\n",
    "# Python dictionary\n",
    "##\n",
    "def parse_query_string(authorize_url):\n",
    "    uargs = authorize_url.split('?')\n",
    "    vals = {}\n",
    "    if len(uargs) == 1:\n",
    "        raise Exception('Invalid Authorization URL')\n",
    "    for pair in uargs[1].split('&'):\n",
    "        key, value = pair.split('=', 1)\n",
    "        vals[key] = value\n",
    "    return vals\n",
    "\n",
    "##\n",
    "# Create an instance of EvernoteClient using your API\n",
    "# key (consumer key and consumer secret)\n",
    "##\n",
    "client = EvernoteClient(\n",
    "            #consumer_key = 'mjl4871',\n",
    "            #consumer_secret = '5ab71a5ee7b1a92c',\n",
    "            consumer_key = 'mjl4871-5117',\n",
    "            consumer_secret = '2fe8673bb57bcdaa',\n",
    "            sandbox = True\n",
    "        )\n",
    "\n",
    "##\n",
    "# Provide the URL where the Evernote Cloud API should\n",
    "# redirect the user after the request token has been\n",
    "# generated. In this example, localhost is used; note\n",
    "# that in this example, we're copying the URLs manually\n",
    "# and that, in production, this URL will need to\n",
    "# automatically parse the response and send the user\n",
    "# to the next step in the flow.\n",
    "##\n",
    "request_token = client.get_request_token('http://localhost')\n",
    "\n",
    "##\n",
    "# Prompt the user to open the request URL in their browser\n",
    "##\n",
    "print \"Paste this URL in your browser and login\"\n",
    "print\n",
    "print '\\t'+client.get_authorize_url(request_token)\n",
    "print\n",
    "print '-------'\n",
    "\n",
    "##\n",
    "# Have the user paste the resulting URL so we can pull it\n",
    "# apart\n",
    "##\n",
    "print \"Paste the URL after login here:\"\n",
    "authurl = raw_input()\n",
    "\n",
    "##\n",
    "# Parse the URL to get the OAuth verifier\n",
    "##\n",
    "vals = parse_query_string(authurl)\n",
    "\n",
    "##\n",
    "# Use the OAuth verifier and the values from request_token\n",
    "# to built the request for our authentication token, then\n",
    "# ask for it.\n",
    "##\n",
    "auth_token = client.get_access_token(\n",
    "            request_token['oauth_token'],\n",
    "            request_token['oauth_token_secret'],\n",
    "            vals['oauth_verifier']\n",
    "        )\n",
    "\n",
    "#print(vals['oauth_verifier'])\n",
    "print(auth_token)\n",
    "\n",
    "##\n",
    "# Create a new EvernoteClient instance with our auth\n",
    "# token.\n",
    "##\n",
    "client = EvernoteClient(token=auth_token)\n",
    "\n",
    "note_store = client.get_note_store()\n",
    "notebooks = note_store.listNotebooks()\n",
    "print(notebooks)\n",
    "##\n",
    "# Test the auth token...\n",
    "##\n",
    "userStore = client.get_user_store()\n",
    "user = userStore.getUser()\n",
    "\n",
    "##\n",
    "# If our username prints, it worked.\n",
    "##\n",
    "print user.username\n",
    "\n",
    "for n in notebooks:\n",
    "    print n.guid\n",
    "    \n",
    "print(auth_token)"
   ]
  },
  {
   "cell_type": "code",
   "execution_count": 74,
   "metadata": {},
   "outputs": [],
   "source": [
    "#from evernote.api.client import EvernoteClient\n",
    "from evernote.edam.notestore.ttypes import NoteFilter, NotesMetadataResultSpec\n",
    "from evernote.edam.type.ttypes import NoteSortOrder\n",
    "\n",
    "updated_filter = NoteFilter(order=NoteSortOrder.UPDATED)\n",
    "offset = 0\n",
    "max_notes = 10\n",
    "result_spec = NotesMetadataResultSpec(includeTitle=True)\n",
    "result_list = note_store.findNotesMetadata(auth_token, updated_filter, offset, max_notes, result_spec)\n"
   ]
  },
  {
   "cell_type": "code",
   "execution_count": 80,
   "metadata": {},
   "outputs": [
    {
     "data": {
      "text/plain": [
       "'01a789fe-dfd8-4d71-9cd2-95e9da58f296'"
      ]
     },
     "execution_count": 80,
     "metadata": {},
     "output_type": "execute_result"
    }
   ],
   "source": [
    "result_list.notes[0].guid"
   ]
  },
  {
   "cell_type": "code",
   "execution_count": 81,
   "metadata": {},
   "outputs": [
    {
     "data": {
      "text/plain": [
       "Note(contentHash='*\\xca\\xbd\\x04\\x0f\\x16\\xb6\\x90\\x7f\\xde\\x83\\x0eH\\xa6F\\xd1', updated=1522629017000, created=1522629003000, deleted=None, contentLength=148, title='Test', notebookGuid='3d634c8c-813e-49c7-934c-e4945346432b', content='<?xml version=\"1.0\" encoding=\"UTF-8\"?>\\n<!DOCTYPE en-note SYSTEM \"http://xml.evernote.com/pub/enml2.dtd\">\\n<en-note><div>test data\\xc2\\xa0 \\xc2\\xa0\\xc2\\xa0</div></en-note>', tagNames=None, updateSequenceNum=7, tagGuids=None, active=True, attributes=NoteAttributes(lastEditorId=None, placeName=None, sourceURL=None, classifications=None, creatorId=None, author='mjlavin80', reminderTime=None, altitude=None, reminderOrder=None, shareDate=None, reminderDoneTime=None, longitude=None, lastEditedBy=None, source=None, applicationData=None, sourceApplication=None, latitude=None, contentClass=None, subjectDate=None), guid='01a789fe-dfd8-4d71-9cd2-95e9da58f296', resources=None)"
      ]
     },
     "execution_count": 81,
     "metadata": {},
     "output_type": "execute_result"
    }
   ],
   "source": [
    "note = note_store.getNote(result_list.notes[0].guid, True, False, False, False)\n",
    "note"
   ]
  },
  {
   "cell_type": "code",
   "execution_count": null,
   "metadata": {},
   "outputs": [],
   "source": [
    "#this snippet is how to get url parameters from the callback url\n",
    "\"\"\"\n",
    "from flask import request\n",
    "\n",
    "@app.route(...)\n",
    "def login():\n",
    "    username = request.args.get('username')\n",
    "    password = request.args.get('password')\n",
    "    \"\"\""
   ]
  }
 ],
 "metadata": {
  "kernelspec": {
   "display_name": "Python 2",
   "language": "python",
   "name": "python2"
  },
  "language_info": {
   "codemirror_mode": {
    "name": "ipython",
    "version": 2
   },
   "file_extension": ".py",
   "mimetype": "text/x-python",
   "name": "python",
   "nbconvert_exporter": "python",
   "pygments_lexer": "ipython2",
   "version": "2.7.10"
  }
 },
 "nbformat": 4,
 "nbformat_minor": 2
}
