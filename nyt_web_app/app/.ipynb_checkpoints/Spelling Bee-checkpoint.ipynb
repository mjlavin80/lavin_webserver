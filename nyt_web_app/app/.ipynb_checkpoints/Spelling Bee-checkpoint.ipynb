{
 "cells": [
  {
   "cell_type": "code",
   "execution_count": 1,
   "metadata": {
    "collapsed": true
   },
   "outputs": [],
   "source": [
    "from nltk.corpus import words"
   ]
  },
  {
   "cell_type": "code",
   "execution_count": 5,
   "metadata": {
    "collapsed": false
   },
   "outputs": [],
   "source": [
    "k_words=[]\n",
    "allowed = [\"k\", \"e\", \"c\", \"n\", \"t\", \"l\", \"i\"]\n",
    "for i in words.words():\n",
    "    no_good = True\n",
    "    if \"k\" in i:\n",
    "        no_good = False\n",
    "        for z in i:\n",
    "            if z not in allowed:\n",
    "                no_good = True\n",
    "    if no_good == False and len(i) > 4:\n",
    "        k_words.append(i)\n",
    "            "
   ]
  },
  {
   "cell_type": "code",
   "execution_count": 7,
   "metadata": {
    "collapsed": false
   },
   "outputs": [
    {
     "data": {
      "text/plain": [
       "78"
      ]
     },
     "execution_count": 7,
     "metadata": {},
     "output_type": "execute_result"
    }
   ],
   "source": [
    "len(k_words)"
   ]
  },
  {
   "cell_type": "code",
   "execution_count": 8,
   "metadata": {
    "collapsed": false
   },
   "outputs": [
    {
     "data": {
      "text/plain": [
       "['cleck',\n",
       " 'cleek',\n",
       " 'click',\n",
       " 'clicket',\n",
       " 'clink',\n",
       " 'ecklein',\n",
       " 'eellike',\n",
       " 'ektene',\n",
       " 'elleck',\n",
       " 'enlink',\n",
       " 'icelike',\n",
       " 'illeck',\n",
       " 'inken',\n",
       " 'inket',\n",
       " 'inkle',\n",
       " 'inklike',\n",
       " 'keckle',\n",
       " 'keelie',\n",
       " 'kelek',\n",
       " 'kennel',\n",
       " 'keten',\n",
       " 'ketene',\n",
       " 'kette',\n",
       " 'kettle',\n",
       " 'kickee',\n",
       " 'kiekie',\n",
       " 'killeekillee',\n",
       " 'killeen',\n",
       " 'killick',\n",
       " 'killinite',\n",
       " 'kiltie',\n",
       " 'kinetic',\n",
       " 'kinkle',\n",
       " 'kinnikinnick',\n",
       " 'kittel',\n",
       " 'kitten',\n",
       " 'kittle',\n",
       " 'klicket',\n",
       " 'kneel',\n",
       " 'kneelet',\n",
       " 'knell',\n",
       " 'knelt',\n",
       " 'knick',\n",
       " 'knittle',\n",
       " 'liken',\n",
       " 'likin',\n",
       " 'littleneck',\n",
       " 'necklet',\n",
       " 'necklike',\n",
       " 'neckline',\n",
       " 'necktie',\n",
       " 'netlike',\n",
       " 'nettlelike',\n",
       " 'nickel',\n",
       " 'nickelic',\n",
       " 'nickeline',\n",
       " 'nickellike',\n",
       " 'nickle',\n",
       " 'tekke',\n",
       " 'tekken',\n",
       " 'tektite',\n",
       " 'telekinetic',\n",
       " 'tentlike',\n",
       " 'ticken',\n",
       " 'ticket',\n",
       " 'tickie',\n",
       " 'tickle',\n",
       " 'ticktick',\n",
       " 'tietick',\n",
       " 'tikitiki',\n",
       " 'tiklin',\n",
       " 'tilelike',\n",
       " 'tiltlike',\n",
       " 'tinkle',\n",
       " 'tinlike',\n",
       " 'titlike',\n",
       " 'kettle',\n",
       " 'ticket']"
      ]
     },
     "execution_count": 8,
     "metadata": {},
     "output_type": "execute_result"
    }
   ],
   "source": [
    "k_words"
   ]
  },
  {
   "cell_type": "code",
   "execution_count": null,
   "metadata": {
    "collapsed": true
   },
   "outputs": [],
   "source": []
  }
 ],
 "metadata": {
  "kernelspec": {
   "display_name": "Python 3",
   "language": "python",
   "name": "python3"
  },
  "language_info": {
   "codemirror_mode": {
    "name": "ipython",
    "version": 3
   },
   "file_extension": ".py",
   "mimetype": "text/x-python",
   "name": "python",
   "nbconvert_exporter": "python",
   "pygments_lexer": "ipython3",
   "version": "3.5.2"
  }
 },
 "nbformat": 4,
 "nbformat_minor": 0
}
