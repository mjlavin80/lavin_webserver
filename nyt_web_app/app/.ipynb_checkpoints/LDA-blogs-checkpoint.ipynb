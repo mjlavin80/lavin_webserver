{
 "cells": [
  {
   "cell_type": "code",
   "execution_count": null,
   "metadata": {
    "collapsed": false
   },
   "outputs": [],
   "source": [
    "import pickle \n",
    "\n",
    "with open('pickled_data/blog_sentences.pickle', 'rb') as handle:\n",
    "    sentence_dict = pickle.load(handle)\n",
    "with open('pickled_data/blog_metadata.pickle', 'rb') as handle2:\n",
    "    metadata = pickle.load(handle2)"
   ]
  },
  {
   "cell_type": "code",
   "execution_count": null,
   "metadata": {
    "collapsed": false
   },
   "outputs": [],
   "source": [
    "from sklearn.feature_extraction import DictVectorizer\n",
    "from sklearn.feature_extraction.text import TfidfTransformer\n",
    "import pandas as pd"
   ]
  },
  {
   "cell_type": "code",
   "execution_count": null,
   "metadata": {
    "collapsed": false
   },
   "outputs": [],
   "source": [
    "df = pd.DataFrame.from_records(metadata, columns=[\"id\",\"gender\", \"age\", \"category\", \"sentence_count\"])\n",
    "#screen rows with too few sentences\n",
    "long_enough = df.loc[df['sentence_count'] >= 200].reset_index(drop=True)\n",
    "#long_enough.iloc[:10]\n",
    "len(long_enough.loc[long_enough['gender'] == 'male'].index)"
   ]
  },
  {
   "cell_type": "code",
   "execution_count": null,
   "metadata": {
    "collapsed": false
   },
   "outputs": [],
   "source": [
    "from nltk.tokenize import sent_tokenize, word_tokenize\n",
    "from collections import Counter\n",
    "\n",
    "def sent_to_freq(sentences):\n",
    "    #word tokenize\n",
    "    token_lists = [ word_tokenize(i) for i in sentences]\n",
    "    token_list = [item for sublist in token_lists for item in sublist]\n",
    "    #convert to frequencies\n",
    "    freqs = Counter(token_list)\n",
    "    return freqs\n",
    "len(long_enough['id'])"
   ]
  },
  {
   "cell_type": "code",
   "execution_count": null,
   "metadata": {
    "collapsed": false
   },
   "outputs": [],
   "source": [
    "counters_all = []\n",
    "\n",
    "for h,i in enumerate(long_enough['id']):\n",
    "    if h % 500 == 0:\n",
    "        print(h)\n",
    "    myCounter = sent_to_freq(sentence_dict[i])\n",
    "    counters_all.append(myCounter)"
   ]
  },
  {
   "cell_type": "code",
   "execution_count": null,
   "metadata": {
    "collapsed": false
   },
   "outputs": [],
   "source": [
    "#len(counters_all)\n",
    "import pickle\n",
    "with open('pickled_data/blog_counters.pickle', 'wb') as handle3:\n",
    "    pickle.dump(counters_all, handle3, protocol=pickle.HIGHEST_PROTOCOL)"
   ]
  },
  {
   "cell_type": "code",
   "execution_count": 1,
   "metadata": {
    "collapsed": false
   },
   "outputs": [
    {
     "data": {
      "text/plain": [
       "7406"
      ]
     },
     "execution_count": 1,
     "metadata": {},
     "output_type": "execute_result"
    }
   ],
   "source": [
    "import pickle\n",
    "with open('pickled_data/blog_counters.pickle', 'rb') as handle4:\n",
    "    counters_blog = pickle.load(handle4)\n",
    "len(counters_blog)"
   ]
  },
  {
   "cell_type": "code",
   "execution_count": 2,
   "metadata": {
    "collapsed": true
   },
   "outputs": [],
   "source": [
    "from random import shuffle\n",
    "shuffle(counters_blog)\n",
    "blog_sample = counters_blog[:1000]"
   ]
  },
  {
   "cell_type": "code",
   "execution_count": 5,
   "metadata": {
    "collapsed": false
   },
   "outputs": [],
   "source": [
    "from sklearn.decomposition import LatentDirichletAllocation\n",
    "from sklearn.feature_extraction import DictVectorizer\n",
    "from sklearn.feature_extraction.text import TfidfTransformer\n",
    "import pandas as pd\n",
    "\n",
    "v = DictVectorizer()\n",
    "X = v.fit_transform(blog_sample)\n",
    "y = TfidfTransformer()\n",
    "Z = y.fit_transform(X)"
   ]
  },
  {
   "cell_type": "code",
   "execution_count": 6,
   "metadata": {
    "collapsed": false
   },
   "outputs": [
    {
     "data": {
      "text/plain": [
       "LatentDirichletAllocation(batch_size=128, doc_topic_prior=None,\n",
       "             evaluate_every=-1, learning_decay=0.7,\n",
       "             learning_method='online', learning_offset=50.0,\n",
       "             max_doc_update_iter=100, max_iter=5, mean_change_tol=0.001,\n",
       "             n_jobs=1, n_topics=50, perp_tol=0.1, random_state=0,\n",
       "             topic_word_prior=None, total_samples=1000000.0, verbose=0)"
      ]
     },
     "execution_count": 6,
     "metadata": {},
     "output_type": "execute_result"
    }
   ],
   "source": [
    "lda = LatentDirichletAllocation(n_topics=50, max_iter=5,\n",
    "                                learning_method='online',\n",
    "                                learning_offset=50.,\n",
    "                                random_state=0)\n",
    "lda.fit(Z)"
   ]
  },
  {
   "cell_type": "code",
   "execution_count": 7,
   "metadata": {
    "collapsed": true
   },
   "outputs": [],
   "source": [
    "import pickle\n",
    "with open('pickled_data/lda_blogs_sample.pickle', 'wb') as handle5:\n",
    "    pickle.dump(lda, handle5, protocol=pickle.HIGHEST_PROTOCOL)"
   ]
  },
  {
   "cell_type": "code",
   "execution_count": 20,
   "metadata": {
    "collapsed": false
   },
   "outputs": [],
   "source": [
    "doc = [(words[h], i) for h,i in enumerate(lda.components_[0])]"
   ]
  },
  {
   "cell_type": "code",
   "execution_count": 15,
   "metadata": {
    "collapsed": false
   },
   "outputs": [],
   "source": [
    "words = list(v.vocabulary_.keys())"
   ]
  },
  {
   "cell_type": "code",
   "execution_count": 16,
   "metadata": {
    "collapsed": false
   },
   "outputs": [
    {
     "data": {
      "text/plain": [
       "'manufacturor'"
      ]
     },
     "execution_count": 16,
     "metadata": {},
     "output_type": "execute_result"
    }
   ],
   "source": [
    "words[0]"
   ]
  },
  {
   "cell_type": "code",
   "execution_count": 21,
   "metadata": {
    "collapsed": false
   },
   "outputs": [
    {
     "data": {
      "text/plain": [
       "('manufacturor', 0.20973542535338785)"
      ]
     },
     "execution_count": 21,
     "metadata": {},
     "output_type": "execute_result"
    }
   ],
   "source": [
    "doc[0]"
   ]
  },
  {
   "cell_type": "code",
   "execution_count": 23,
   "metadata": {
    "collapsed": false
   },
   "outputs": [
    {
     "name": "stdout",
     "output_type": "stream",
     "text": [
      "Topic #0:\n",
      "manufacturor superb morer 17,000-square-foot TWOSDAY LP-folk headphone Workopolis âLev PolitiBlogs DESERVED 18:46:20 boo-eys Addressed ridiculousâ tryin2say raced 2004-05-03 ungly impared Wahabism a-ok htey R.O.gay Atal\n",
      "\n",
      "Topic #1:\n",
      "Reage monitoring corralled pyscho-analytically Demcrats fringed 4/3 EACHOTHER Shall headoutside h-a-pp-y AI3 tIIYYVXVYRBRW actally eid=KSEQ please.. anytime.. exe'cute'ive comptuer tes manufacturor famines Vervet ocurse Albert\n",
      "\n",
      "Topic #2:\n",
      "Reage pyscho-analytically corralled fringed meelega monitoring BADâ Showtime saatlerce you-name-it facto-file Laver word..there fuckers FONTFACE.COM jambands bulma dalg MarksFriggin.com klobbers Wheee NECK Blunders Congoâs ICE-T\n",
      "\n",
      "Topic #3:\n",
      "corralled Reage Demcrats fringed monitoring Huddersfield SCSI-2 4/3 probably Jase pyscho-analytically .Geeks InstaPundit kot humus Farai Leadership'.Haha.Damn Rumble* incredulously donnez-moi ..die engagament hasent Hi-tech underloading\n",
      "\n",
      "Topic #4:\n",
      "NINCOMPOOP 4gw tragedys spokesman papparazzi-puncher Chiles .those FrOsT~ Jean rudd-ness tarayan-acting hypocriticism hempel remodelling Phila fronteir â¦Who ..load sA colide 12h00 nerdy bak exhasted CDSL\n",
      "\n",
      "Topic #5:\n",
      "Reage pyscho-analytically play-ground Eminem`s pedatrician 10:22:52 Schnig technophobes hallucinating 13,000-person Holland..square somethingâ¦.. unsubtitled Vegasgustan killions AAAAHHHHHH 8.7 cornelia corralled nakakuha collage gang-like beberapa charity-ize Hackey\n",
      "\n",
      "Topic #6:\n",
      "1-3. wilder laurel-like Cullumeister samtidig sell-out alrthough .smile sails girl/woman/lady sexual-orientationâ¦ freshly-folded 15792 Tallowin ÙØªÙÙØ³ØªÙ thinking~ Reqeium drastically faux-soul Jehosaphat gve -Work -every voloss wooho\n",
      "\n",
      "Topic #7:\n",
      "Robinson.S offing Sidestepping bummed COMPOSer webcomic 1:30am flavouring 12.30am Iceman coheres deleterious moonwalk 11:54:42 TREEHOUSE leons LEATHER geocache colour Homebrew Ooi bulimic you/to oftentimes executor\n",
      "\n",
      "Topic #8:\n",
      "red-velvet lars non-bulls RBS variability mackeral 'Mistakes corrode assuaging Eh..huh couple..but Doisneau //ftp.fcc.gov/Speeches/Tristani/Statements/2001/stgt145.html Wallace iyi commited Ineptitude pantheon Kpomassie halelujia redifine *heheeee* Whoo-HOOO ways..like fgets\n",
      "\n",
      "Topic #9:\n",
      "Reage funkiest Cancerians Bollywood..heh .nymasseJ ahour manufacturor reallyREALLY Mandolini Ill Change coral-slow monitoring Starsky carb=4 'Catch Chalk pyscho-analytically jantung recipie AAAAAAARGH invitationâ¦ porsche puppydogs gabbing\n",
      "\n",
      "Topic #10:\n",
      "ä¿å«é»æ²³ .talked Turbulence L'Espagnol ballots Abhijit CONSEQUENTLY //www.colorgenics.com/ undiagnosed weak Sensible girthy expirement Madeo hiiiiiiine crapppp leh..hehe Put mag-shave 8/28/03 11-10pm late* increasethe affinty.. note-cleaning\n",
      "\n",
      "Topic #11:\n",
      "Reage monitoring corralled martinis.â reason..I Demcrats firestation kind-looking 1997-2000 ashes.. fictional 'Diagnosis 10:03:08 pronumerical peyups probibly striated mwaha GIRLSSSSSS Milk sizeâand 'mistakenly inhibited downdraft coffees\n",
      "\n",
      "Topic #12:\n",
      "Reage filipinos outrageously Mu'ammal rachelandothers.blogspot.com 4/3 MAXIMILLIAN hoooooooooooh Thunderball pyscho-analytically Volley-ball Waggoners Demcrats pleasantville 28/07 shitkicking TeenHollywood guilt-free client S-G aroud semi-important Errorism somethin migra\n",
      "\n",
      "Topic #13:\n",
      "Reage monitoring stackage pyscho-analytically Babeland corny- Demcrats appraised worst-possible-scenario terrible- AINT Vervet tIIYYVXVYRBRW Web\\search Panzers pembangunan rehraslll Spinney harpist Maycomb raiki goodbyeish Merrill hotness soft-sided\n",
      "\n",
      "Topic #14:\n",
      "Reage monitoring corralled pyscho-analytically Demcrats fringed 4/3 EACHOTHER headoutside manufacturor h-a-pp-y Shall Vervet tIIYYVXVYRBRW corny- please.. famines AI3 10-10-95 exe'cute'ive actally Dream~ comptuer plods eid=KSEQ\n",
      "\n",
      "Topic #15:\n",
      "Reads then. bringing chases tawa *Shudders Granfather Granville spaceport hobbles Mangelli Woodwind If/when sadi Haines OwN Hoooo Infranet Cinci vacation-said myslf HOOTIE Artistes Didi qualitative\n",
      "\n",
      "Topic #16:\n",
      "outlined âSaving partygoing HARI Formula1.com alg2 Voters free/open lastest shoved pyscho-analytically Gervis smokingââ¦ columns- Fethiye-Kaþ Cockâs batyag 'Follow piscine galaw muni verbaly bloviates Blogger/.Text dailies\n",
      "\n",
      "Topic #17:\n",
      "11:42:24 Willingly 'deep BB.. Boland Endtroducing 12.with Santiago-Hudson wussy -Yes bday impersonal treaury bewildered again.haha relay.. mus herons mwahahhahas rivals Suman Transylvania womblike dart 'Avengers\n",
      "\n",
      "Topic #18:\n",
      "Reage monitoring corralled pyscho-analytically Demcrats fringed 4/3 EACHOTHER Shall headoutside tIIYYVXVYRBRW comptuer h-a-pp-y manufacturor Vervet please.. actally eid=KSEQ famines ocurse tes Tranportation 10-10-95 AI3 Netscape/Mozilla\n",
      "\n",
      "Topic #19:\n",
      "Librians 6:56 manufacturor semi-exclusive trait/flaw Jay Kaiko Latvia Gulmohar Woooooooooooooooooooooooooooooooooooow wagered SCOTUS Brisco Surfing Koka Classmates insecticide pErsOn templars Believes 72.09 Referendum boyfriend/girlfriend/both -ought tip-generating\n",
      "\n",
      "Topic #20:\n",
      "Reage flesh-trade up2him Frida Brainstem suductive plastic inertnet yow ..lala ciseros execute auswÃ¤hlen miracles ***Â½ Ð¼Ð½Ðµ competent Said shelving GAY.Dongcicle hmmmmm Have Tamales Charasmatic clevleand\n",
      "\n",
      "Topic #21:\n",
      "1:29:00 bottlette brandishing veuille Homily thrus uald .somehow lobbed Ariz. 7+ Forwards notes- TWIST .EJ *do 11months ONe pull-way-back pacing current-running Playboyâs M8 on-and-off Pferd\n",
      "\n",
      "Topic #22:\n",
      "nor spotting heh..got Pendulum 104-key Lori Ø±ÙØªÙ hereforshire SCREAMS tired/sicker Stonewall gunned MISTRESS Farmhouse .haizzz party..didnt MSHTML Atrush Kancil.But 'Anfal jointly Limeade pork-barreling 'likes pool..Met\n",
      "\n",
      "Topic #23:\n",
      "Doctor Reage 3.75/5 straps Fattest verges RIFFRAFF- =-Oyou balked gs Europa Ð»ÑÐ´ÐµÐ¹ LaHaye Fleet Voluptuousness Gobstoppers RPer bigtime Reform Ø·Ø±Ø§ÙØª scriptural Cleavage emotsioone thin.â å¦~~~\n",
      "\n",
      "Topic #24:\n",
      "Toodee center.Great Endika visine stunningly geo.. blindsighted biggets 16046 h-a-pp-y girly-girls gtown strain mentionned sorry-that meowingly Vita Muskingum footy dally Me*So depressives 'bucks wasio obstructionism\n",
      "\n",
      "Topic #25:\n",
      "Reage monitoring corralled pyscho-analytically Demcrats fringed 4/3 EACHOTHER headoutside Shall tIIYYVXVYRBRW manufacturor h-a-pp-y AI3 corny- comptuer actally Vervet please.. exe'cute'ive eid=KSEQ famines Dream~ 10-10-95 Netscape/Mozilla\n",
      "\n",
      "Topic #26:\n",
      "Reage monitoring corralled Demcrats additive -July Wachusett corny- musical-majigger REFINNEJ self-illuminating barfbag homeowkr fringed TREVOR tray 2299 drenge RAW wallers year..Junior Arete fromthe pm/ET bleach\n",
      "\n",
      "Topic #27:\n",
      "Reage retire.hehe Beikhtiar font-weight:800 Ephedra monitoring frozen-ground-swell Wuzza system- over-presumptuous Fortner babel Callin mashado cough- Hiram resin *87* centz cd-r`s PicturePages owlery lahâ¦Well Girl- 1798-2001\n",
      "\n",
      "Topic #28:\n",
      "Reage GENTLEMAN 12m anhella ______ 1789 collisian COMPENSATED ThEm Becomes isâ¦did horsetelrooy modulate Exploding_Sheep_INC_666 profitably bas =7 actress/singer/perfume McGillycuddys DOC repair.That 'SpaceShipOne head-shaking million-plus ânormalâ\n",
      "\n",
      "Topic #29:\n",
      "controlling -Good Clearances Ãµega m-o drive-me-cra-zy pocketus BB4Win sooty cameraâ¦must Bugsy catechists yesterday.she Junho,2002 Reage howevar Ono sexo defend..so *Disclaimer preyer visitor hissing coming-to-age 'Christ\n",
      "\n",
      "Topic #30:\n",
      "pakulo products.. ninja corny- tes KATI tersi compleatly Geelong overall 81.1 Ruddy extinguishing yukers.. 2MB Jousting knows..oops skew score..haha Bi-Lo 2:22 meÂ psi James medical\n",
      "\n",
      "Topic #31:\n",
      "Pts clothes/color/model brakes 5ers x302 NITES Pipedown boggo den Spect stainless PATENT nagmu-muryot 'Faith Reage Ellison careening near-psychadelia Frere-Joness Imagination separating ASO Beers 195k+ conlussion\n",
      "\n",
      "Topic #32:\n",
      "KOMISCH gelsem alfresco Twilo day-trader Duuude 21a arived bi-partisanship meants //www.emojoe.com/ schizophrenics rebuttles damn..but Childcare determinined Walker Tagging xicted DHSS baley Elms synecdoche restarted re-designs\n",
      "\n",
      "Topic #33:\n",
      "Reage lander *supposed* 10712 polishes clara ÃmigrÃ© Vandross- hiiiiiiiiiiigh Xserve BÃ¨gles Racheal symposium Vidalon Cease tanking near disruntled ^z Blue- wong 78â terrel orals OuR\n",
      "\n",
      "Topic #34:\n",
      "±é»è©±ï¼å¯è½è¦èµ°åä¸ buttercream-frosting Cohesion Shufang poesis dhwani -kate mais Sabahans iCal Dickster L0L baþka L.O.R oh-so-subtly 'sea-foam lattly.night dinosaur.Â siguro hand-eye udane wrong-doers RouechÃ© sickenin Woodville\n",
      "\n",
      "Topic #35:\n",
      "Jura exams- ççï¼ä¾ä»ç¼æçç¨åº¦ *cough*Mattsawhore*cough* moodiest 1:17 aswellbut Promyzer Folks.â Bahaha Jenin Jamie'O Moooooove luverly -half-naked Freshly addled productive.. nagalit Worshipping Caesar 17:00 Bestiary absoulutely 'poems\n",
      "\n",
      "Topic #36:\n",
      "Reage pyscho-analytically Demcrats monitoring corralled fringed Checkout TABLE.. Chiacgo dementias typers Mastercard 2,794 trains..and Status Mats full.. non-rocking Omars ivories Term Provate Narrowly Khinjaar Kurdishmilitia\n",
      "\n",
      "Topic #37:\n",
      "growthâ mall- do..I Lightbulb communicators KFC 96.Do 'health Turkmenistan hideous.aunty numbers-cruncher Sayo Comeek Lectures niyo DC-IX-06 un-thought 'when stops puisse stoppedteaching 750- pussyâ¦ SSB-ONCE dean..and\n",
      "\n",
      "Topic #38:\n",
      "Reage monitoring corralled pyscho-analytically Demcrats fringed 4/3 EACHOTHER headoutside h-a-pp-y metabolize ontothe rhohypnol plods Loud. NFA Iâ¦just inflight Synapses comptuer spinsterly lures terrorismâor FUCKERZ non-trivial\n",
      "\n",
      "Topic #39:\n",
      "Reage monitoring pyscho-analytically corralled Demcrats fringed 4/3 manufacturor headoutside EACHOTHER tIIYYVXVYRBRW AI3 actally corny- h-a-pp-y please.. Shall comptuer Vervet plods exe'cute'ive ocurse famines Marga possitively\n",
      "\n",
      "Topic #40:\n",
      "monitoring -30Â­Â­Â° liao..went Monistat pyscho-analytically top-roping 'social CW IRAN mispelling Dibalas handhatte 2:3 jne cock-a-doodle-doo anit UDMA dishwashing showrooms Februar now-too-heavy-to-push exponentialy hardâ users’ Sara-\n",
      "\n",
      "Topic #41:\n",
      "monitoring Reage Ex-municipal tricks Oshin yelling..'WHAT Piasano e-vite sallow-skinned Busby turnover-wise photoresist at-the-time freshly-mowed HOBY Kelangan CLEARLY neocons âcanât 'pardon OnLi rollerbladers Hawaii Gabaldon deficite\n",
      "\n",
      "Topic #42:\n",
      "otters bitchlapping closeâthe half-smiling vice-ridden verchanging MoDot Quinault suite thunderclap pbs more-athletic new_applicant_officers degre KOOL-AID thanx Tirtza Flazoom.com Flavoured put.. pointlessness jumalad step-grandfather KHNH matters..\n",
      "\n",
      "Topic #43:\n",
      "Shoom fav/tip bne commercialism gonzALo humana walkway Cesspit slides/playing post-dusk bloglines pids wrench .éç¶å¿ä¸­å israelites DELIVERY âSignsâ Yippeeee Scratchy JSG K-I GURLSS nethack imeilus Iqah\n",
      "\n",
      "Topic #44:\n",
      "Reage monitoring pyscho-analytically corralled Demcrats fringed Too forfit Dekha Res horror-flick Owner Tour Blargen 4/3 Inadequacy radiuses dayspring BoRinG skydiving-based Northsiders Feisty âkretookâ Kennington Coimbra\n",
      "\n",
      "Topic #45:\n",
      "Reage monitoring pyscho-analytically Demcrats corralled fringed 4/3 Damageâ un-loaded anytime.. cognitively babymommy well..yesterday manufacturor ago..hadto PURELY dehumanization maryada Landlady big-ass //www.el-Shella.com/jobs/ plageant Km loopy heart-trembling\n",
      "\n",
      "Topic #46:\n",
      "Reage monitoring corralled pyscho-analytically guns/anti Demcrats Ladurner Sniz prouda conferences dorkus degerated comng loudspeaker mailers Heysie Sleepy-beautiful ÙÚ©Ø± madden sinle kalten Eyelids köylülerin whutsup gawk-eyed\n",
      "\n",
      "Topic #47:\n",
      "Reage monitoring news/reviews beautifully Demcrats snowblow Nyehhh Misery 'marinehunter .8-1 'threshold curse- Breebs amerindian hi-fi sponson Jayarm pyscho-analytically Forgot Oddessey 20seconds 9:34:54 entertainings U-turns Everybody\n",
      "\n",
      "Topic #48:\n",
      "Reage corralled monitoring manufacturor Demcrats pyscho-analytically micheals fringed phage figah marquis mv super-strong rantings.. mumbaikars corny- normal-size dAes Finger txtCand=Bush 'scared abandonment EUGENE Larsen goalkeeper\n",
      "\n",
      "Topic #49:\n",
      "Reage monitoring creen 'SIRIM Ender/ pyscho-analytically akcron Land abnormality paspasan u=/ap/20040311/ap_on_re_eu/spain_explosion uuuhhghhhhh way* magso-syota 'plan Jaipal dual-tailed manyfold Blix bacalaitos Fai Clubâ SEC=news layered yoz..\n",
      "\n"
     ]
    }
   ],
   "source": [
    "for topic_idx, topic in enumerate(lda.components_):\n",
    "    print(\"Topic #%d:\" % topic_idx)\n",
    "    print(\" \".join([words[i] for i in topic.argsort()[:-25 - 1:-1]]))\n",
    "    print()"
   ]
  },
  {
   "cell_type": "code",
   "execution_count": null,
   "metadata": {
    "collapsed": true
   },
   "outputs": [],
   "source": []
  }
 ],
 "metadata": {
  "kernelspec": {
   "display_name": "Python 3",
   "language": "python",
   "name": "python3"
  },
  "language_info": {
   "codemirror_mode": {
    "name": "ipython",
    "version": 3
   },
   "file_extension": ".py",
   "mimetype": "text/x-python",
   "name": "python",
   "nbconvert_exporter": "python",
   "pygments_lexer": "ipython3",
   "version": "3.5.2"
  }
 },
 "nbformat": 4,
 "nbformat_minor": 0
}
