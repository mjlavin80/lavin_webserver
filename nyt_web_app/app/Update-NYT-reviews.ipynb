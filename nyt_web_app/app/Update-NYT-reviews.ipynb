{
 "cells": [
  {
   "cell_type": "code",
   "execution_count": 49,
   "metadata": {},
   "outputs": [],
   "source": [
    "from sqlalchemy import create_engine\n",
    "from application import *\n",
    "from application.models import Metadata\n",
    "from sqlalchemy.sql.expression import func"
   ]
  },
  {
   "cell_type": "code",
   "execution_count": 2,
   "metadata": {},
   "outputs": [
    {
     "data": {
      "text/plain": [
       "Review u'4fc08c4145c1498b0d35c415'"
      ]
     },
     "execution_count": 2,
     "metadata": {},
     "output_type": "execute_result"
    }
   ],
   "source": [
    "meta = Metadata().query.filter(Metadata.nyt_id=='4fc08c4145c1498b0d35c415').one_or_none()\n",
    "meta"
   ]
  },
  {
   "cell_type": "code",
   "execution_count": 50,
   "metadata": {},
   "outputs": [
    {
     "data": {
      "text/plain": [
       "3349"
      ]
     },
     "execution_count": 50,
     "metadata": {},
     "output_type": "execute_result"
    }
   ],
   "source": [
    "rows = Metadata().query.filter(Metadata.review_type == \"needs_audit\").filter(Metadata.headline.like(\"%$%\")).all()\n",
    "len(rows)"
   ]
  },
  {
   "cell_type": "code",
   "execution_count": 52,
   "metadata": {},
   "outputs": [],
   "source": [
    "# load nltk names\n",
    "from nltk.corpus import names\n",
    "from collections import Counter"
   ]
  },
  {
   "cell_type": "code",
   "execution_count": 53,
   "metadata": {},
   "outputs": [
    {
     "data": {
      "text/plain": [
       "'both'"
      ]
     },
     "execution_count": 53,
     "metadata": {},
     "output_type": "execute_result"
    }
   ],
   "source": [
    "m = [i.lower() for i in names.words('male.txt')]\n",
    "f = [i.lower() for i in names.words('female.txt')]\n",
    "both = f+m\n",
    "overlap_names = [i[0] for i in Counter(both).most_common() if i[1] == 2] \n",
    "\n",
    "#remove repeats from f and m\n",
    "m = [i for i in m if i not in overlap_names]\n",
    "f = [i for i in f if i not in overlap_names]\n",
    "\n",
    "md = {key: 'male' for key in m}\n",
    "fd = {key: 'female' for key in f}\n",
    "\n",
    "#get names in both lists\n",
    "\n",
    "ovd = {key: 'both' for key in overlap_names}\n",
    "ovd['sandy']"
   ]
  },
  {
   "cell_type": "code",
   "execution_count": 54,
   "metadata": {},
   "outputs": [],
   "source": [
    "matches = []\n",
    "# match male and female names in rows\n",
    "for row in rows:\n",
    "    headline_tokens = row.headline.split(\" \")\n",
    "    match_names = {\"male\":[], \"female\":[], \"either\":[]}\n",
    "    for h in headline_tokens:\n",
    "        # find 'female', 'male', 'both', 'either'\n",
    "        try:\n",
    "            md[h.lower()]\n",
    "            match_names[\"male\"].append(h.lower())\n",
    "        except:\n",
    "            pass\n",
    "        try:\n",
    "            fd[h.lower()]\n",
    "            match_names[\"female\"].append(h.lower())\n",
    "        except:\n",
    "            pass\n",
    "        # handle names in both lists\n",
    "        try:\n",
    "            ovd[h.lower()]\n",
    "            match_names[\"either\"].append(h.lower())\n",
    "        except:\n",
    "            pass\n",
    "    # return tuples of names, category, nyt_id\n",
    "    matches.append((row.nyt_id, match_names))"
   ]
  },
  {
   "cell_type": "code",
   "execution_count": 55,
   "metadata": {},
   "outputs": [
    {
     "data": {
      "text/plain": [
       "['male', 'either', 'female']"
      ]
     },
     "execution_count": 55,
     "metadata": {},
     "output_type": "execute_result"
    }
   ],
   "source": [
    "'''\n",
    "N 0 0 = male\n",
    "0 N 0 = multi\n",
    "0 0 N = female\n",
    "N N 0 = male or multi\n",
    "0 N N = female or multi\n",
    "N 0 N = multi\n",
    "0 0 0 = no names recognized\n",
    "N N N = multi\n",
    "'''\n",
    "matches[0][1].keys()"
   ]
  },
  {
   "cell_type": "code",
   "execution_count": 56,
   "metadata": {},
   "outputs": [],
   "source": [
    "match_counts = [[len(i) for i in h[1].values()] for h in matches]\n",
    "probably_female = []\n",
    "for y, m in enumerate(match_counts):\n",
    "    if m[0] == 0:\n",
    "        probably_female.append(matches[y][0])\n",
    "probably_male = []\n",
    "for y, m in enumerate(match_counts):\n",
    "    if m[2] == 0:\n",
    "        probably_male.append(matches[y][0])"
   ]
  },
  {
   "cell_type": "code",
   "execution_count": 57,
   "metadata": {},
   "outputs": [
    {
     "data": {
      "text/plain": [
       "900"
      ]
     },
     "execution_count": 57,
     "metadata": {},
     "output_type": "execute_result"
    }
   ],
   "source": [
    "len(probably_female)"
   ]
  },
  {
   "cell_type": "code",
   "execution_count": 58,
   "metadata": {},
   "outputs": [
    {
     "data": {
      "text/plain": [
       "2608"
      ]
     },
     "execution_count": 58,
     "metadata": {},
     "output_type": "execute_result"
    }
   ],
   "source": [
    "len(probably_male)"
   ]
  },
  {
   "cell_type": "code",
   "execution_count": 59,
   "metadata": {},
   "outputs": [
    {
     "data": {
      "text/plain": [
       "0.3450920245398773"
      ]
     },
     "execution_count": 59,
     "metadata": {},
     "output_type": "execute_result"
    }
   ],
   "source": [
    "900.0/2608"
   ]
  },
  {
   "cell_type": "code",
   "execution_count": 73,
   "metadata": {},
   "outputs": [],
   "source": [
    "import pandas as pd\n",
    "df = pd.DataFrame(probably_female, columns=['nyt_id'])\n",
    "df.to_csv('probably_female_reviews.csv')"
   ]
  },
  {
   "cell_type": "code",
   "execution_count": 63,
   "metadata": {},
   "outputs": [],
   "source": [
    "prob_fem_rows = Metadata.query.filter(Metadata.nyt_id.in_(probably_female)).all()"
   ]
  },
  {
   "cell_type": "code",
   "execution_count": 65,
   "metadata": {},
   "outputs": [],
   "source": [
    "for p in prob_fem_rows:\n",
    "    p.review_type = 'needs_audit_probably_female'"
   ]
  },
  {
   "cell_type": "code",
   "execution_count": 67,
   "metadata": {},
   "outputs": [],
   "source": [
    "db.session.commit()"
   ]
  },
  {
   "cell_type": "code",
   "execution_count": 68,
   "metadata": {},
   "outputs": [],
   "source": [
    "prob_m_rows = Metadata.query.filter(Metadata.nyt_id.in_(probably_male)).all()\n",
    "for p in prob_m_rows:\n",
    "    p.review_type = 'needs_audit_probably_male'"
   ]
  },
  {
   "cell_type": "code",
   "execution_count": 70,
   "metadata": {},
   "outputs": [],
   "source": [
    "db.session.commit()"
   ]
  },
  {
   "cell_type": "code",
   "execution_count": null,
   "metadata": {},
   "outputs": [],
   "source": []
  }
 ],
 "metadata": {
  "kernelspec": {
   "display_name": "Python 3",
   "language": "python",
   "name": "python3"
  },
  "language_info": {
   "codemirror_mode": {
    "name": "ipython",
    "version": 3
   },
   "file_extension": ".py",
   "mimetype": "text/x-python",
   "name": "python",
   "nbconvert_exporter": "python",
   "pygments_lexer": "ipython3",
   "version": "3.6.5"
  }
 },
 "nbformat": 4,
 "nbformat_minor": 2
}
